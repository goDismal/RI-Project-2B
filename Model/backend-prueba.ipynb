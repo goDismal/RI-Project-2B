{
  "cells": [
    {
      "cell_type": "code",
      "execution_count": 17,
      "metadata": {},
      "outputs": [],
      "source": [
        "import pandas as pd\n",
        "import nltk\n",
        "import faiss\n",
        "import torch\n",
        "import re\n",
        "from sentence_transformers import SentenceTransformer\n",
        "from transformers import AutoModelForCausalLM, AutoTokenizer\n",
        "import pandas as pd\n",
        "from langchain.text_splitter import RecursiveCharacterTextSplitter\n",
        "from langchain.docstore.document import Document"
      ]
    },
    {
      "cell_type": "code",
      "execution_count": 18,
      "metadata": {},
      "outputs": [],
      "source": [
        "import os\n",
        "from dotenv import load_dotenv\n",
        "\n",
        "# Cargar variables del archivo .env\n",
        "load_dotenv()\n",
        "\n",
        "# Obtener la clave de OpenAI desde el archivo .env\n",
        "OPENAI_API_KEY = os.getenv('OPENAI_API_KEY')\n",
        "\n",
        "# Ahora puedes usar OPENAI_API_KEY para autenticarte con OpenAI\n",
        "from langchain_openai import ChatOpenAI\n",
        "\n",
        "os.environ[\"OPENAI_API_KEY\"] = OPENAI_API_KEY\n",
        "\n",
        "llm = ChatOpenAI(model=\"gpt-4o-mini\")"
      ]
    },
    {
      "cell_type": "code",
      "execution_count": 25,
      "metadata": {},
      "outputs": [],
      "source": [
        "from langchain_openai import OpenAIEmbeddings\n",
        "# Generación de embeddings\n",
        "embeddings_model = OpenAIEmbeddings()\n"
      ]
    },
    {
      "cell_type": "code",
      "execution_count": null,
      "metadata": {},
      "outputs": [],
      "source": [
        "from langchain.embeddings.openai import OpenAIEmbeddings\n",
        "from langchain.vectorstores import FAISS\n",
        "\n",
        "# Definir el modelo de embeddings\n",
        "embeddings_model = OpenAIEmbeddings()"
      ]
    },
    {
      "cell_type": "code",
      "execution_count": 28,
      "metadata": {},
      "outputs": [],
      "source": [
        "df_chunks = pd.read_csv(\"EmbeddingsEntrevistas.csv\")"
      ]
    },
    {
      "cell_type": "code",
      "execution_count": 29,
      "metadata": {},
      "outputs": [
        {
          "data": {
            "text/plain": [
              "34339"
            ]
          },
          "execution_count": 29,
          "metadata": {},
          "output_type": "execute_result"
        }
      ],
      "source": [
        "len(df_chunks['Embeddings'][0])"
      ]
    },
    {
      "cell_type": "code",
      "execution_count": 30,
      "metadata": {},
      "outputs": [],
      "source": [
        "import numpy as np\n",
        "df_chunks['Embeddings'] = df_chunks['Embeddings'].apply(lambda x: np.array(eval(x)) if isinstance(x, str) else np.array(x))\n"
      ]
    },
    {
      "cell_type": "code",
      "execution_count": 46,
      "metadata": {},
      "outputs": [],
      "source": [
        "import numpy as np\n",
        "\n",
        "def find_best_passage(query, dataframe):\n",
        "  \"\"\"\n",
        "  Calcula las distancias entre la consulta y cada documento en el marco de datos utilizando el producto punto.\n",
        "  \"\"\"\n",
        "  query_embedding = embeddings_model.embed_query(query)\n",
        "\n",
        "  # Revisa como opera la función dot aquí: https://numpy.org/doc/stable/reference/generated/numpy.dot.html\n",
        "  dot_products = np.dot(np.stack(dataframe['Embeddings']), query_embedding)\n",
        "\n",
        "  # Obtiene la ID del que más se parece\n",
        "  idx = np.argmax(dot_products)\n",
        "\n",
        "  return dataframe.iloc[idx]['Text'] # Devuelve el texto del índice con el valor máximo."
      ]
    },
    {
      "cell_type": "code",
      "execution_count": 55,
      "metadata": {},
      "outputs": [
        {
          "data": {
            "text/plain": [
              "'gobierno que representa los intereses los grupos de poder económico los grandes empresarios evasores de impuestos y que el pueblo ha dicho no voa nunca más qué opina de la candidatura de luisa gonzález eh el pasado de corrupción de asalto a los dineros del estado defensora y hoy eh cómplice también de los prófugo de la justicia además de recordarle que cuando fue ministra del trabajo dictó el el acuerdo 094 que pretendió eliminar la compensación'"
            ]
          },
          "execution_count": 55,
          "metadata": {},
          "output_type": "execute_result"
        }
      ],
      "source": [
        "query = \"¿Que opina Andrea Gonzales sobre la corrupcion?\"\n",
        "best_passage = find_best_passage(query, df_chunks)\n",
        "best_passage"
      ]
    },
    {
      "cell_type": "code",
      "execution_count": 59,
      "metadata": {},
      "outputs": [],
      "source": [
        "from langchain_core.prompts import ChatPromptTemplate\n",
        "from langchain_core.output_parsers import StrOutputParser\n",
        "\n",
        "output_parser = StrOutputParser()\n",
        "\n",
        "\n",
        "prompt = ChatPromptTemplate.from_messages([\n",
        "    (\"system\", \"\"\"\n",
        "      Eres un asistente informativo que responde preguntas basándose en entrevistas con los candidatos presidenciales de Ecuador. \n",
        "     Proporciona respuestas claras y detalladas, explicando los temas de manera accesible para una audiencia no técnica. \n",
        "     Mantén un tono amigable y conversacional, desglosando conceptos complejos cuando sea necesario. Responde en el idioma en el que se haga la pregunta.\n",
        "\n",
        "      PREGUNTA: '{query}'\n",
        "      TEXTO DE REFERENCIA: '{relevant_passage}'\n",
        "\n",
        "      RESPUESTA:\n",
        "    \"\"\"\n",
        "    ),\n",
        "])\n",
        "\n",
        "chain = prompt | llm | output_parser"
      ]
    },
    {
      "cell_type": "code",
      "execution_count": 57,
      "metadata": {},
      "outputs": [
        {
          "data": {
            "text/plain": [
              "'Andrea Gonzales ha expresado su opinión sobre la corrupción de manera clara y contundente. Ella critica fuertemente a los gobiernos que, según ella, están alineados con los intereses de grupos de poder económico y grandes empresarios que evaden impuestos. En este contexto, menciona que el pueblo ha mostrado un rechazo hacia estas prácticas y asegura que no desea volver a esos modelos de gobernanza.\\n\\nAdemás, se refiere a la candidatura de Luisa González y señala el pasado de corrupción que la rodea, incluyendo acusaciones sobre el manejo indebido de recursos públicos. Gonzales menciona que González fue defensora de aquellos que, según ella, han cometido actos de corrupción y también los califica de prófugos de la justicia. También critica un acuerdo que fue promulgado durante el tiempo en que González era ministra del trabajo, el cual según Gonzales, buscaba eliminar beneficios como la compensación laboral, lo que podría afectar a los trabajadores.\\n\\nEn resumen, Andrea Gonzales tiene una postura firme contra la corrupción y se enfoca en la importancia de un gobierno que represente verdaderamente los intereses del pueblo, lejos de los grupos que buscan enriquecerse a costa del estado y la ciudadanía.'"
            ]
          },
          "execution_count": 57,
          "metadata": {},
          "output_type": "execute_result"
        }
      ],
      "source": [
        "chain.invoke({\n",
        "    \"query\": query,\n",
        "    \"relevant_passage\": best_passage,\n",
        "    })"
      ]
    }
  ],
  "metadata": {
    "colab": {
      "provenance": []
    },
    "kernelspec": {
      "display_name": "Python 3",
      "name": "python3"
    },
    "language_info": {
      "codemirror_mode": {
        "name": "ipython",
        "version": 3
      },
      "file_extension": ".py",
      "mimetype": "text/x-python",
      "name": "python",
      "nbconvert_exporter": "python",
      "pygments_lexer": "ipython3",
      "version": "3.12.5"
    }
  },
  "nbformat": 4,
  "nbformat_minor": 0
}
